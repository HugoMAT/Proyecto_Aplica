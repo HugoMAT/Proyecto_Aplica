{
 "cells": [
  {
   "cell_type": "code",
   "execution_count": 140,
   "metadata": {},
   "outputs": [],
   "source": [
    "import numpy as np\n",
    "import pandas as pd\n",
    "import os\n",
    "import matplotlib.pyplot as plt\n",
    "import seaborn as sns\n",
    "import ast\n",
    "from sklearn.feature_extraction.text import TfidfVectorizer\n",
    "from sklearn.metrics.pairwise import linear_kernel"
   ]
  },
  {
   "cell_type": "code",
   "execution_count": 79,
   "metadata": {},
   "outputs": [],
   "source": [
    "preprocesado = pd.read_csv(os.path.join(\"data\",\"Datos_Proyecto_Aplica.csv\"))"
   ]
  },
  {
   "cell_type": "markdown",
   "metadata": {},
   "source": [
    "Gráfica de las peliculas más populares"
   ]
  },
  {
   "cell_type": "code",
   "execution_count": 80,
   "metadata": {
    "scrolled": true
   },
   "outputs": [
    {
     "data": {
      "text/plain": [
       "Text(0.5, 1.0, 'Peliculas más populares')"
      ]
     },
     "execution_count": 80,
     "metadata": {},
     "output_type": "execute_result"
    },
    {
     "data": {
      "image/png": "[encoded data removed]",
      "text/plain": [
       "<Figure size 864x288 with 1 Axes>"
      ]
     },
     "metadata": {
      "needs_background": "light"
     },
     "output_type": "display_data"
    }
   ],
   "source": [
    "pop= preprocesado.sort_values('popularity', ascending=False)\n",
    "\n",
    "plt.figure(figsize=(12,4))\n",
    "\n",
    "plt.barh(pop['title'].head(6),pop['popularity'].head(6), align='center',\n",
    "        color='skyblue')\n",
    "plt.gca().invert_yaxis()\n",
    "plt.xlabel(\"Popularidad\")\n",
    "plt.title(\"Peliculas más populares\")"
   ]
  },
  {
   "cell_type": "markdown",
   "metadata": {},
   "source": [
    "Veamos el top 10 películas con más votos y mejor valorados."
   ]
  },
  {
   "cell_type": "code",
   "execution_count": 81,
   "metadata": {},
   "outputs": [
    {
     "data": {
      "text/html": [
       "<div>\n",
       "<style scoped>\n",
       "    .dataframe tbody tr th:only-of-type {\n",
       "        vertical-align: middle;\n",
       "    }\n",
       "\n",
       "    .dataframe tbody tr th {\n",
       "        vertical-align: top;\n",
       "    }\n",
       "\n",
       "    .dataframe thead th {\n",
       "        text-align: right;\n",
       "    }\n",
       "</style>\n",
       "<table border=\"1\" class=\"dataframe\">\n",
       "  <thead>\n",
       "    <tr style=\"text-align: right;\">\n",
       "      <th></th>\n",
       "      <th>title</th>\n",
       "      <th>vote_count</th>\n",
       "      <th>vote_average</th>\n",
       "    </tr>\n",
       "  </thead>\n",
       "  <tbody>\n",
       "    <tr>\n",
       "      <th>96</th>\n",
       "      <td>Inception</td>\n",
       "      <td>13752</td>\n",
       "      <td>8.1</td>\n",
       "    </tr>\n",
       "    <tr>\n",
       "      <th>65</th>\n",
       "      <td>The Dark Knight</td>\n",
       "      <td>12002</td>\n",
       "      <td>8.2</td>\n",
       "    </tr>\n",
       "    <tr>\n",
       "      <th>0</th>\n",
       "      <td>Avatar</td>\n",
       "      <td>11800</td>\n",
       "      <td>7.2</td>\n",
       "    </tr>\n",
       "    <tr>\n",
       "      <th>16</th>\n",
       "      <td>The Avengers</td>\n",
       "      <td>11776</td>\n",
       "      <td>7.4</td>\n",
       "    </tr>\n",
       "    <tr>\n",
       "      <th>788</th>\n",
       "      <td>Deadpool</td>\n",
       "      <td>10995</td>\n",
       "      <td>7.4</td>\n",
       "    </tr>\n",
       "    <tr>\n",
       "      <th>95</th>\n",
       "      <td>Interstellar</td>\n",
       "      <td>10867</td>\n",
       "      <td>8.1</td>\n",
       "    </tr>\n",
       "    <tr>\n",
       "      <th>287</th>\n",
       "      <td>Django Unchained</td>\n",
       "      <td>10099</td>\n",
       "      <td>7.8</td>\n",
       "    </tr>\n",
       "    <tr>\n",
       "      <th>94</th>\n",
       "      <td>Guardians of the Galaxy</td>\n",
       "      <td>9742</td>\n",
       "      <td>7.9</td>\n",
       "    </tr>\n",
       "    <tr>\n",
       "      <th>426</th>\n",
       "      <td>The Hunger Games</td>\n",
       "      <td>9455</td>\n",
       "      <td>6.9</td>\n",
       "    </tr>\n",
       "    <tr>\n",
       "      <th>127</th>\n",
       "      <td>Mad Max: Fury Road</td>\n",
       "      <td>9427</td>\n",
       "      <td>7.2</td>\n",
       "    </tr>\n",
       "    <tr>\n",
       "      <th>662</th>\n",
       "      <td>Fight Club</td>\n",
       "      <td>9413</td>\n",
       "      <td>8.3</td>\n",
       "    </tr>\n",
       "    <tr>\n",
       "      <th>3</th>\n",
       "      <td>The Dark Knight Rises</td>\n",
       "      <td>9106</td>\n",
       "      <td>7.6</td>\n",
       "    </tr>\n",
       "    <tr>\n",
       "      <th>634</th>\n",
       "      <td>The Matrix</td>\n",
       "      <td>8907</td>\n",
       "      <td>7.9</td>\n",
       "    </tr>\n",
       "    <tr>\n",
       "      <th>31</th>\n",
       "      <td>Iron Man 3</td>\n",
       "      <td>8806</td>\n",
       "      <td>6.8</td>\n",
       "    </tr>\n",
       "    <tr>\n",
       "      <th>68</th>\n",
       "      <td>Iron Man</td>\n",
       "      <td>8776</td>\n",
       "      <td>7.4</td>\n",
       "    </tr>\n",
       "    <tr>\n",
       "      <th>262</th>\n",
       "      <td>The Lord of the Rings: The Fellowship of the Ring</td>\n",
       "      <td>8705</td>\n",
       "      <td>8.0</td>\n",
       "    </tr>\n",
       "    <tr>\n",
       "      <th>28</th>\n",
       "      <td>Jurassic World</td>\n",
       "      <td>8662</td>\n",
       "      <td>6.5</td>\n",
       "    </tr>\n",
       "    <tr>\n",
       "      <th>3232</th>\n",
       "      <td>Pulp Fiction</td>\n",
       "      <td>8428</td>\n",
       "      <td>8.3</td>\n",
       "    </tr>\n",
       "    <tr>\n",
       "      <th>98</th>\n",
       "      <td>The Hobbit: An Unexpected Journey</td>\n",
       "      <td>8297</td>\n",
       "      <td>7.0</td>\n",
       "    </tr>\n",
       "    <tr>\n",
       "      <th>1881</th>\n",
       "      <td>The Shawshank Redemption</td>\n",
       "      <td>8205</td>\n",
       "      <td>8.5</td>\n",
       "    </tr>\n",
       "  </tbody>\n",
       "</table>\n",
       "</div>"
      ],
      "text/plain": [
       "                                                  title  vote_count  \\\n",
       "96                                            Inception       13752   \n",
       "65                                      The Dark Knight       12002   \n",
       "0                                                Avatar       11800   \n",
       "16                                         The Avengers       11776   \n",
       "788                                            Deadpool       10995   \n",
       "95                                         Interstellar       10867   \n",
       "287                                    Django Unchained       10099   \n",
       "94                              Guardians of the Galaxy        9742   \n",
       "426                                    The Hunger Games        9455   \n",
       "127                                  Mad Max: Fury Road        9427   \n",
       "662                                          Fight Club        9413   \n",
       "3                                 The Dark Knight Rises        9106   \n",
       "634                                          The Matrix        8907   \n",
       "31                                           Iron Man 3        8806   \n",
       "68                                             Iron Man        8776   \n",
       "262   The Lord of the Rings: The Fellowship of the Ring        8705   \n",
       "28                                       Jurassic World        8662   \n",
       "3232                                       Pulp Fiction        8428   \n",
       "98                    The Hobbit: An Unexpected Journey        8297   \n",
       "1881                           The Shawshank Redemption        8205   \n",
       "\n",
       "      vote_average  \n",
       "96             8.1  \n",
       "65             8.2  \n",
       "0              7.2  \n",
       "16             7.4  \n",
       "788            7.4  \n",
       "95             8.1  \n",
       "287            7.8  \n",
       "94             7.9  \n",
       "426            6.9  \n",
       "127            7.2  \n",
       "662            8.3  \n",
       "3              7.6  \n",
       "634            7.9  \n",
       "31             6.8  \n",
       "68             7.4  \n",
       "262            8.0  \n",
       "28             6.5  \n",
       "3232           8.3  \n",
       "98             7.0  \n",
       "1881           8.5  "
      ]
     },
     "execution_count": 81,
     "metadata": {},
     "output_type": "execute_result"
    }
   ],
   "source": [
    "q_movies = preprocesado.sort_values('vote_count', ascending=False)\n",
    "q_movies[['title', 'vote_count', 'vote_average']].head(20)"
   ]
  },
  {
   "cell_type": "code",
   "execution_count": 82,
   "metadata": {},
   "outputs": [
    {
     "data": {
      "text/html": [
       "<div>\n",
       "<style scoped>\n",
       "    .dataframe tbody tr th:only-of-type {\n",
       "        vertical-align: middle;\n",
       "    }\n",
       "\n",
       "    .dataframe tbody tr th {\n",
       "        vertical-align: top;\n",
       "    }\n",
       "\n",
       "    .dataframe thead th {\n",
       "        text-align: right;\n",
       "    }\n",
       "</style>\n",
       "<table border=\"1\" class=\"dataframe\">\n",
       "  <thead>\n",
       "    <tr style=\"text-align: right;\">\n",
       "      <th></th>\n",
       "      <th>title</th>\n",
       "      <th>vote_count</th>\n",
       "      <th>vote_average</th>\n",
       "    </tr>\n",
       "  </thead>\n",
       "  <tbody>\n",
       "    <tr>\n",
       "      <th>3519</th>\n",
       "      <td>Stiff Upper Lips</td>\n",
       "      <td>1</td>\n",
       "      <td>10.0</td>\n",
       "    </tr>\n",
       "    <tr>\n",
       "      <th>4247</th>\n",
       "      <td>Me You and Five Bucks</td>\n",
       "      <td>2</td>\n",
       "      <td>10.0</td>\n",
       "    </tr>\n",
       "    <tr>\n",
       "      <th>4045</th>\n",
       "      <td>Dancer, Texas Pop. 81</td>\n",
       "      <td>1</td>\n",
       "      <td>10.0</td>\n",
       "    </tr>\n",
       "    <tr>\n",
       "      <th>4662</th>\n",
       "      <td>Little Big Top</td>\n",
       "      <td>1</td>\n",
       "      <td>10.0</td>\n",
       "    </tr>\n",
       "    <tr>\n",
       "      <th>3992</th>\n",
       "      <td>Sardaarji</td>\n",
       "      <td>2</td>\n",
       "      <td>9.5</td>\n",
       "    </tr>\n",
       "    <tr>\n",
       "      <th>2386</th>\n",
       "      <td>One Man's Hero</td>\n",
       "      <td>2</td>\n",
       "      <td>9.3</td>\n",
       "    </tr>\n",
       "    <tr>\n",
       "      <th>2970</th>\n",
       "      <td>There Goes My Baby</td>\n",
       "      <td>2</td>\n",
       "      <td>8.5</td>\n",
       "    </tr>\n",
       "    <tr>\n",
       "      <th>1881</th>\n",
       "      <td>The Shawshank Redemption</td>\n",
       "      <td>8205</td>\n",
       "      <td>8.5</td>\n",
       "    </tr>\n",
       "    <tr>\n",
       "      <th>2796</th>\n",
       "      <td>The Prisoner of Zenda</td>\n",
       "      <td>11</td>\n",
       "      <td>8.4</td>\n",
       "    </tr>\n",
       "    <tr>\n",
       "      <th>3337</th>\n",
       "      <td>The Godfather</td>\n",
       "      <td>5893</td>\n",
       "      <td>8.4</td>\n",
       "    </tr>\n",
       "  </tbody>\n",
       "</table>\n",
       "</div>"
      ],
      "text/plain": [
       "                         title  vote_count  vote_average\n",
       "3519          Stiff Upper Lips           1          10.0\n",
       "4247     Me You and Five Bucks           2          10.0\n",
       "4045     Dancer, Texas Pop. 81           1          10.0\n",
       "4662            Little Big Top           1          10.0\n",
       "3992                 Sardaarji           2           9.5\n",
       "2386            One Man's Hero           2           9.3\n",
       "2970        There Goes My Baby           2           8.5\n",
       "1881  The Shawshank Redemption        8205           8.5\n",
       "2796     The Prisoner of Zenda          11           8.4\n",
       "3337             The Godfather        5893           8.4"
      ]
     },
     "execution_count": 82,
     "metadata": {},
     "output_type": "execute_result"
    }
   ],
   "source": [
    "\n",
    "q_movies = preprocesado.sort_values('vote_average', ascending=False)\n",
    "\n",
    "q_movies[['title', 'vote_count', 'vote_average']].head(10)"
   ]
  },
  {
   "cell_type": "markdown",
   "metadata": {},
   "source": [
    "Aquí vemos que no son comparables los top, por lo que estableceremos la media geométrica entre estas para poder compararlas."
   ]
  },
  {
   "cell_type": "code",
   "execution_count": 83,
   "metadata": {},
   "outputs": [
    {
     "data": {
      "text/plain": [
       "(array([4.124e+03, 3.910e+02, 1.470e+02, 7.100e+01, 3.700e+01, 1.400e+01,\n",
       "        1.100e+01, 4.000e+00, 3.000e+00, 1.000e+00]),\n",
       " array([    0. ,  1375.2,  2750.4,  4125.6,  5500.8,  6876. ,  8251.2,\n",
       "         9626.4, 11001.6, 12376.8, 13752. ]),\n",
       " <BarContainer object of 10 artists>)"
      ]
     },
     "execution_count": 83,
     "metadata": {},
     "output_type": "execute_result"
    },
    {
     "data": {
      "image/png": "[encoded data removed]",
      "text/plain": [
       "<Figure size 432x288 with 1 Axes>"
      ]
     },
     "metadata": {
      "needs_background": "light"
     },
     "output_type": "display_data"
    }
   ],
   "source": [
    "# esta sesgado\n",
    "plt.hist(preprocesado[\"vote_count\"])"
   ]
  },
  {
   "cell_type": "code",
   "execution_count": 84,
   "metadata": {},
   "outputs": [],
   "source": [
    "preprocesado[\"Score\"]= np.sqrt(preprocesado[\"vote_average\"]* preprocesado[\"vote_count\"])"
   ]
  },
  {
   "cell_type": "code",
   "execution_count": 85,
   "metadata": {},
   "outputs": [
    {
     "data": {
      "text/html": [
       "<div>\n",
       "<style scoped>\n",
       "    .dataframe tbody tr th:only-of-type {\n",
       "        vertical-align: middle;\n",
       "    }\n",
       "\n",
       "    .dataframe tbody tr th {\n",
       "        vertical-align: top;\n",
       "    }\n",
       "\n",
       "    .dataframe thead th {\n",
       "        text-align: right;\n",
       "    }\n",
       "</style>\n",
       "<table border=\"1\" class=\"dataframe\">\n",
       "  <thead>\n",
       "    <tr style=\"text-align: right;\">\n",
       "      <th></th>\n",
       "      <th>title</th>\n",
       "      <th>vote_count</th>\n",
       "      <th>vote_average</th>\n",
       "      <th>Score</th>\n",
       "    </tr>\n",
       "  </thead>\n",
       "  <tbody>\n",
       "    <tr>\n",
       "      <th>96</th>\n",
       "      <td>Inception</td>\n",
       "      <td>13752</td>\n",
       "      <td>8.1</td>\n",
       "      <td>333.753202</td>\n",
       "    </tr>\n",
       "    <tr>\n",
       "      <th>65</th>\n",
       "      <td>The Dark Knight</td>\n",
       "      <td>12002</td>\n",
       "      <td>8.2</td>\n",
       "      <td>313.713882</td>\n",
       "    </tr>\n",
       "    <tr>\n",
       "      <th>95</th>\n",
       "      <td>Interstellar</td>\n",
       "      <td>10867</td>\n",
       "      <td>8.1</td>\n",
       "      <td>296.686198</td>\n",
       "    </tr>\n",
       "    <tr>\n",
       "      <th>16</th>\n",
       "      <td>The Avengers</td>\n",
       "      <td>11776</td>\n",
       "      <td>7.4</td>\n",
       "      <td>295.198916</td>\n",
       "    </tr>\n",
       "    <tr>\n",
       "      <th>0</th>\n",
       "      <td>Avatar</td>\n",
       "      <td>11800</td>\n",
       "      <td>7.2</td>\n",
       "      <td>291.478987</td>\n",
       "    </tr>\n",
       "    <tr>\n",
       "      <th>788</th>\n",
       "      <td>Deadpool</td>\n",
       "      <td>10995</td>\n",
       "      <td>7.4</td>\n",
       "      <td>285.242003</td>\n",
       "    </tr>\n",
       "    <tr>\n",
       "      <th>287</th>\n",
       "      <td>Django Unchained</td>\n",
       "      <td>10099</td>\n",
       "      <td>7.8</td>\n",
       "      <td>280.663856</td>\n",
       "    </tr>\n",
       "    <tr>\n",
       "      <th>662</th>\n",
       "      <td>Fight Club</td>\n",
       "      <td>9413</td>\n",
       "      <td>8.3</td>\n",
       "      <td>279.513685</td>\n",
       "    </tr>\n",
       "    <tr>\n",
       "      <th>94</th>\n",
       "      <td>Guardians of the Galaxy</td>\n",
       "      <td>9742</td>\n",
       "      <td>7.9</td>\n",
       "      <td>277.419898</td>\n",
       "    </tr>\n",
       "    <tr>\n",
       "      <th>634</th>\n",
       "      <td>The Matrix</td>\n",
       "      <td>8907</td>\n",
       "      <td>7.9</td>\n",
       "      <td>265.264585</td>\n",
       "    </tr>\n",
       "    <tr>\n",
       "      <th>3232</th>\n",
       "      <td>Pulp Fiction</td>\n",
       "      <td>8428</td>\n",
       "      <td>8.3</td>\n",
       "      <td>264.485160</td>\n",
       "    </tr>\n",
       "    <tr>\n",
       "      <th>1881</th>\n",
       "      <td>The Shawshank Redemption</td>\n",
       "      <td>8205</td>\n",
       "      <td>8.5</td>\n",
       "      <td>264.088053</td>\n",
       "    </tr>\n",
       "    <tr>\n",
       "      <th>262</th>\n",
       "      <td>The Lord of the Rings: The Fellowship of the Ring</td>\n",
       "      <td>8705</td>\n",
       "      <td>8.0</td>\n",
       "      <td>263.893918</td>\n",
       "    </tr>\n",
       "    <tr>\n",
       "      <th>3</th>\n",
       "      <td>The Dark Knight Rises</td>\n",
       "      <td>9106</td>\n",
       "      <td>7.6</td>\n",
       "      <td>263.069573</td>\n",
       "    </tr>\n",
       "    <tr>\n",
       "      <th>127</th>\n",
       "      <td>Mad Max: Fury Road</td>\n",
       "      <td>9427</td>\n",
       "      <td>7.2</td>\n",
       "      <td>260.527158</td>\n",
       "    </tr>\n",
       "    <tr>\n",
       "      <th>329</th>\n",
       "      <td>The Lord of the Rings: The Return of the King</td>\n",
       "      <td>8064</td>\n",
       "      <td>8.1</td>\n",
       "      <td>255.574647</td>\n",
       "    </tr>\n",
       "    <tr>\n",
       "      <th>426</th>\n",
       "      <td>The Hunger Games</td>\n",
       "      <td>9455</td>\n",
       "      <td>6.9</td>\n",
       "      <td>255.420242</td>\n",
       "    </tr>\n",
       "    <tr>\n",
       "      <th>809</th>\n",
       "      <td>Forrest Gump</td>\n",
       "      <td>7927</td>\n",
       "      <td>8.2</td>\n",
       "      <td>254.953721</td>\n",
       "    </tr>\n",
       "    <tr>\n",
       "      <th>68</th>\n",
       "      <td>Iron Man</td>\n",
       "      <td>8776</td>\n",
       "      <td>7.4</td>\n",
       "      <td>254.837988</td>\n",
       "    </tr>\n",
       "    <tr>\n",
       "      <th>330</th>\n",
       "      <td>The Lord of the Rings: The Two Towers</td>\n",
       "      <td>7487</td>\n",
       "      <td>8.0</td>\n",
       "      <td>244.736593</td>\n",
       "    </tr>\n",
       "    <tr>\n",
       "      <th>31</th>\n",
       "      <td>Iron Man 3</td>\n",
       "      <td>8806</td>\n",
       "      <td>6.8</td>\n",
       "      <td>244.705537</td>\n",
       "    </tr>\n",
       "    <tr>\n",
       "      <th>98</th>\n",
       "      <td>The Hobbit: An Unexpected Journey</td>\n",
       "      <td>8297</td>\n",
       "      <td>7.0</td>\n",
       "      <td>240.995851</td>\n",
       "    </tr>\n",
       "    <tr>\n",
       "      <th>25</th>\n",
       "      <td>Titanic</td>\n",
       "      <td>7562</td>\n",
       "      <td>7.5</td>\n",
       "      <td>238.149113</td>\n",
       "    </tr>\n",
       "    <tr>\n",
       "      <th>28</th>\n",
       "      <td>Jurassic World</td>\n",
       "      <td>8662</td>\n",
       "      <td>6.5</td>\n",
       "      <td>237.282532</td>\n",
       "    </tr>\n",
       "    <tr>\n",
       "      <th>270</th>\n",
       "      <td>The Martian</td>\n",
       "      <td>7268</td>\n",
       "      <td>7.6</td>\n",
       "      <td>235.025105</td>\n",
       "    </tr>\n",
       "    <tr>\n",
       "      <th>119</th>\n",
       "      <td>Batman Begins</td>\n",
       "      <td>7359</td>\n",
       "      <td>7.5</td>\n",
       "      <td>234.930841</td>\n",
       "    </tr>\n",
       "    <tr>\n",
       "      <th>2912</th>\n",
       "      <td>Star Wars</td>\n",
       "      <td>6624</td>\n",
       "      <td>8.1</td>\n",
       "      <td>231.634194</td>\n",
       "    </tr>\n",
       "    <tr>\n",
       "      <th>66</th>\n",
       "      <td>Up</td>\n",
       "      <td>6870</td>\n",
       "      <td>7.7</td>\n",
       "      <td>229.997826</td>\n",
       "    </tr>\n",
       "    <tr>\n",
       "      <th>197</th>\n",
       "      <td>Harry Potter and the Philosopher's Stone</td>\n",
       "      <td>7006</td>\n",
       "      <td>7.5</td>\n",
       "      <td>229.226962</td>\n",
       "    </tr>\n",
       "    <tr>\n",
       "      <th>77</th>\n",
       "      <td>Inside Out</td>\n",
       "      <td>6560</td>\n",
       "      <td>8.0</td>\n",
       "      <td>229.085137</td>\n",
       "    </tr>\n",
       "  </tbody>\n",
       "</table>\n",
       "</div>"
      ],
      "text/plain": [
       "                                                  title  vote_count  \\\n",
       "96                                            Inception       13752   \n",
       "65                                      The Dark Knight       12002   \n",
       "95                                         Interstellar       10867   \n",
       "16                                         The Avengers       11776   \n",
       "0                                                Avatar       11800   \n",
       "788                                            Deadpool       10995   \n",
       "287                                    Django Unchained       10099   \n",
       "662                                          Fight Club        9413   \n",
       "94                              Guardians of the Galaxy        9742   \n",
       "634                                          The Matrix        8907   \n",
       "3232                                       Pulp Fiction        8428   \n",
       "1881                           The Shawshank Redemption        8205   \n",
       "262   The Lord of the Rings: The Fellowship of the Ring        8705   \n",
       "3                                 The Dark Knight Rises        9106   \n",
       "127                                  Mad Max: Fury Road        9427   \n",
       "329       The Lord of the Rings: The Return of the King        8064   \n",
       "426                                    The Hunger Games        9455   \n",
       "809                                        Forrest Gump        7927   \n",
       "68                                             Iron Man        8776   \n",
       "330               The Lord of the Rings: The Two Towers        7487   \n",
       "31                                           Iron Man 3        8806   \n",
       "98                    The Hobbit: An Unexpected Journey        8297   \n",
       "25                                              Titanic        7562   \n",
       "28                                       Jurassic World        8662   \n",
       "270                                         The Martian        7268   \n",
       "119                                       Batman Begins        7359   \n",
       "2912                                          Star Wars        6624   \n",
       "66                                                   Up        6870   \n",
       "197            Harry Potter and the Philosopher's Stone        7006   \n",
       "77                                           Inside Out        6560   \n",
       "\n",
       "      vote_average       Score  \n",
       "96             8.1  333.753202  \n",
       "65             8.2  313.713882  \n",
       "95             8.1  296.686198  \n",
       "16             7.4  295.198916  \n",
       "0              7.2  291.478987  \n",
       "788            7.4  285.242003  \n",
       "287            7.8  280.663856  \n",
       "662            8.3  279.513685  \n",
       "94             7.9  277.419898  \n",
       "634            7.9  265.264585  \n",
       "3232           8.3  264.485160  \n",
       "1881           8.5  264.088053  \n",
       "262            8.0  263.893918  \n",
       "3              7.6  263.069573  \n",
       "127            7.2  260.527158  \n",
       "329            8.1  255.574647  \n",
       "426            6.9  255.420242  \n",
       "809            8.2  254.953721  \n",
       "68             7.4  254.837988  \n",
       "330            8.0  244.736593  \n",
       "31             6.8  244.705537  \n",
       "98             7.0  240.995851  \n",
       "25             7.5  238.149113  \n",
       "28             6.5  237.282532  \n",
       "270            7.6  235.025105  \n",
       "119            7.5  234.930841  \n",
       "2912           8.1  231.634194  \n",
       "66             7.7  229.997826  \n",
       "197            7.5  229.226962  \n",
       "77             8.0  229.085137  "
      ]
     },
     "execution_count": 85,
     "metadata": {},
     "output_type": "execute_result"
    }
   ],
   "source": [
    "\n",
    "q_movies = preprocesado.sort_values('Score', ascending=False)\n",
    "\n",
    "q_movies[['title', 'vote_count', 'vote_average','Score']].head(30)"
   ]
  },
  {
   "cell_type": "code",
   "execution_count": 162,
   "metadata": {},
   "outputs": [],
   "source": [
    "def lista_recomendados(idx , col):\n",
    "    \n",
    "    #Define a TF-IDF Vectorizer Object. Remove all english stop words such as 'the', 'a'\n",
    "    tfidf = TfidfVectorizer(stop_words='english')\n",
    "    #Replace NaN with an empty string\n",
    "    preprocesado[col] = preprocesado[col].fillna('')\n",
    "    #Construct the required TF-IDF matrix by fitting and transforming the data\n",
    "    tfidf_matrix = tfidf.fit_transform(preprocesado[col])\n",
    "    # Compute the cosine similarity matrix\n",
    "    cosine_sim = linear_kernel(tfidf_matrix, tfidf_matrix)\n",
    "    # Get the pairwsie similarity scores of all movies with that movie\n",
    "    sim_scores = list(enumerate(cosine_sim[idx]))\n",
    "    # Sort the movies based on the similarity scores\n",
    "    sim_scores = sorted(sim_scores, key=lambda x: x[1], reverse=True)\n",
    "    # Get the scores of the 10 most similar movies\n",
    "    sim_scores = sim_scores[1:11]\n",
    "    # Get the movie indices\n",
    "    movie_indices = [i[0] for i in sim_scores]\n",
    "    # Return the top 10 most similar movies\n",
    "    return sim_scores"
   ]
  },
  {
   "cell_type": "code",
   "execution_count": 165,
   "metadata": {},
   "outputs": [
    {
     "data": {
      "text/plain": [
       "[(3, 0.30151176591665485),\n",
       " (428, 0.24943052490782133),\n",
       " (3854, 0.22451581982034283),\n",
       " (299, 0.21407005730021642),\n",
       " (1359, 0.18233430984787807),\n",
       " (119, 0.16203671480953252),\n",
       " (1181, 0.13462679652302015),\n",
       " (9, 0.11863736843799158),\n",
       " (2507, 0.1137383532501324),\n",
       " (210, 0.10689597818735441)]"
      ]
     },
     "execution_count": 165,
     "metadata": {},
     "output_type": "execute_result"
    }
   ],
   "source": [
    "lista_recomendados(65,'overview')"
   ]
  },
  {
   "cell_type": "markdown",
   "metadata": {},
   "source": [
    "## Kmeans con variables numericas"
   ]
  },
  {
   "cell_type": "code",
   "execution_count": 152,
   "metadata": {},
   "outputs": [],
   "source": [
    "numeric_features = list(preprocesado.dtypes[preprocesado.dtypes != \"object\"].index)\n",
    "numericas_prepro=preprocesado[numeric_features].iloc[:,1:].drop([\"id\",\"vote_average\",\"vote_count\"],axis=1)"
   ]
  },
  {
   "cell_type": "code",
   "execution_count": 153,
   "metadata": {},
   "outputs": [
    {
     "data": {
      "text/html": [
       "<div>\n",
       "<style scoped>\n",
       "    .dataframe tbody tr th:only-of-type {\n",
       "        vertical-align: middle;\n",
       "    }\n",
       "\n",
       "    .dataframe tbody tr th {\n",
       "        vertical-align: top;\n",
       "    }\n",
       "\n",
       "    .dataframe thead th {\n",
       "        text-align: right;\n",
       "    }\n",
       "</style>\n",
       "<table border=\"1\" class=\"dataframe\">\n",
       "  <thead>\n",
       "    <tr style=\"text-align: right;\">\n",
       "      <th></th>\n",
       "      <th>movie_id</th>\n",
       "      <th>budget</th>\n",
       "      <th>popularity</th>\n",
       "      <th>revenue</th>\n",
       "      <th>runtime</th>\n",
       "      <th>Score</th>\n",
       "    </tr>\n",
       "  </thead>\n",
       "  <tbody>\n",
       "    <tr>\n",
       "      <th>0</th>\n",
       "      <td>19995</td>\n",
       "      <td>237000000</td>\n",
       "      <td>150.437577</td>\n",
       "      <td>2787965087</td>\n",
       "      <td>162.0</td>\n",
       "      <td>291.478987</td>\n",
       "    </tr>\n",
       "    <tr>\n",
       "      <th>1</th>\n",
       "      <td>285</td>\n",
       "      <td>300000000</td>\n",
       "      <td>139.082615</td>\n",
       "      <td>961000000</td>\n",
       "      <td>169.0</td>\n",
       "      <td>176.210102</td>\n",
       "    </tr>\n",
       "    <tr>\n",
       "      <th>2</th>\n",
       "      <td>206647</td>\n",
       "      <td>245000000</td>\n",
       "      <td>107.376788</td>\n",
       "      <td>880674609</td>\n",
       "      <td>148.0</td>\n",
       "      <td>167.737295</td>\n",
       "    </tr>\n",
       "    <tr>\n",
       "      <th>3</th>\n",
       "      <td>49026</td>\n",
       "      <td>250000000</td>\n",
       "      <td>112.312950</td>\n",
       "      <td>1084939099</td>\n",
       "      <td>165.0</td>\n",
       "      <td>263.069573</td>\n",
       "    </tr>\n",
       "    <tr>\n",
       "      <th>4</th>\n",
       "      <td>49529</td>\n",
       "      <td>260000000</td>\n",
       "      <td>43.926995</td>\n",
       "      <td>284139100</td>\n",
       "      <td>132.0</td>\n",
       "      <td>113.826183</td>\n",
       "    </tr>\n",
       "    <tr>\n",
       "      <th>...</th>\n",
       "      <td>...</td>\n",
       "      <td>...</td>\n",
       "      <td>...</td>\n",
       "      <td>...</td>\n",
       "      <td>...</td>\n",
       "      <td>...</td>\n",
       "    </tr>\n",
       "    <tr>\n",
       "      <th>4798</th>\n",
       "      <td>9367</td>\n",
       "      <td>220000</td>\n",
       "      <td>14.269792</td>\n",
       "      <td>2040920</td>\n",
       "      <td>81.0</td>\n",
       "      <td>39.633319</td>\n",
       "    </tr>\n",
       "    <tr>\n",
       "      <th>4799</th>\n",
       "      <td>72766</td>\n",
       "      <td>9000</td>\n",
       "      <td>0.642552</td>\n",
       "      <td>0</td>\n",
       "      <td>85.0</td>\n",
       "      <td>5.431390</td>\n",
       "    </tr>\n",
       "    <tr>\n",
       "      <th>4800</th>\n",
       "      <td>231617</td>\n",
       "      <td>0</td>\n",
       "      <td>1.444476</td>\n",
       "      <td>0</td>\n",
       "      <td>120.0</td>\n",
       "      <td>6.480741</td>\n",
       "    </tr>\n",
       "    <tr>\n",
       "      <th>4801</th>\n",
       "      <td>126186</td>\n",
       "      <td>0</td>\n",
       "      <td>0.857008</td>\n",
       "      <td>0</td>\n",
       "      <td>98.0</td>\n",
       "      <td>6.316645</td>\n",
       "    </tr>\n",
       "    <tr>\n",
       "      <th>4802</th>\n",
       "      <td>25975</td>\n",
       "      <td>0</td>\n",
       "      <td>1.929883</td>\n",
       "      <td>0</td>\n",
       "      <td>90.0</td>\n",
       "      <td>10.039920</td>\n",
       "    </tr>\n",
       "  </tbody>\n",
       "</table>\n",
       "<p>4803 rows × 6 columns</p>\n",
       "</div>"
      ],
      "text/plain": [
       "      movie_id     budget  popularity     revenue  runtime       Score\n",
       "0        19995  237000000  150.437577  2787965087    162.0  291.478987\n",
       "1          285  300000000  139.082615   961000000    169.0  176.210102\n",
       "2       206647  245000000  107.376788   880674609    148.0  167.737295\n",
       "3        49026  250000000  112.312950  1084939099    165.0  263.069573\n",
       "4        49529  260000000   43.926995   284139100    132.0  113.826183\n",
       "...        ...        ...         ...         ...      ...         ...\n",
       "4798      9367     220000   14.269792     2040920     81.0   39.633319\n",
       "4799     72766       9000    0.642552           0     85.0    5.431390\n",
       "4800    231617          0    1.444476           0    120.0    6.480741\n",
       "4801    126186          0    0.857008           0     98.0    6.316645\n",
       "4802     25975          0    1.929883           0     90.0   10.039920\n",
       "\n",
       "[4803 rows x 6 columns]"
      ]
     },
     "execution_count": 153,
     "metadata": {},
     "output_type": "execute_result"
    }
   ],
   "source": [
    "numericas_prepro"
   ]
  },
  {
   "cell_type": "code",
   "execution_count": 100,
   "metadata": {},
   "outputs": [
    {
     "data": {
      "text/plain": [
       "<bound method NDFrame.get of       movie_id     budget  popularity     revenue  runtime       Score\n",
       "1          285  300000000  139.082615   961000000    169.0  176.210102\n",
       "2       206647  245000000  107.376788   880674609    148.0  167.737295\n",
       "3        49026  250000000  112.312950  1084939099    165.0  263.069573\n",
       "4        49529  260000000   43.926995   284139100    132.0  113.826183\n",
       "5          559  258000000  115.699814   890871626    139.0  145.252883\n",
       "...        ...        ...         ...         ...      ...         ...\n",
       "4798      9367     220000   14.269792     2040920     81.0   39.633319\n",
       "4799     72766       9000    0.642552           0     85.0    5.431390\n",
       "4800    231617          0    1.444476           0    120.0    6.480741\n",
       "4801    126186          0    0.857008           0     98.0    6.316645\n",
       "4802     25975          0    1.929883           0     90.0   10.039920\n",
       "\n",
       "[4802 rows x 6 columns]>"
      ]
     },
     "execution_count": 100,
     "metadata": {},
     "output_type": "execute_result"
    }
   ],
   "source": [
    "numericas_prepro[1:].get"
   ]
  },
  {
   "cell_type": "code",
   "execution_count": 101,
   "metadata": {},
   "outputs": [],
   "source": [
    "#imputamos por el promedio los dos perdidos\n",
    "is_NaN = numericas_prepro.isnull()\n",
    "row_has_NaN = is_NaN.any(axis=1)\n",
    "rows_with_NaN = numericas_prepro[row_has_NaN]\n",
    "numericas_prepro.loc[numericas_prepro[row_has_NaN].index,\"runtime\"]= numericas_prepro.runtime.mean()"
   ]
  },
  {
   "cell_type": "code",
   "execution_count": 102,
   "metadata": {},
   "outputs": [
    {
     "data": {
      "text/plain": [
       "<AxesSubplot:title={'center':'Elbow Curve'}, xlabel='Number of Clusters', ylabel='Score'>"
      ]
     },
     "execution_count": 102,
     "metadata": {},
     "output_type": "execute_result"
    },
    {
     "data": {
      "image/png": "[encoded data removed]",
      "text/plain": [
       "<Figure size 792x612 with 1 Axes>"
      ]
     },
     "metadata": {
      "needs_background": "light"
     },
     "output_type": "display_data"
    }
   ],
   "source": [
    "# implementación de la regla del codo\n",
    "from sklearn.cluster import KMeans\n",
    "\n",
    "Nc = range(1, 10)\n",
    "kmeans = [KMeans(n_clusters=i) for i in Nc]\n",
    "score = [kmeans[i].fit(numericas_prepro.iloc[:,1:]).inertia_ for i in range(len(kmeans))]\n",
    "\n",
    "\n",
    "df_Elbow = pd.DataFrame({'Number of Clusters':Nc,\n",
    "                        'Score':score})\n",
    "\n",
    "df_Elbow.head()\n",
    "# graficar los datos etiquetados con k-means\n",
    "fig, ax = plt.subplots(figsize=(11, 8.5))\n",
    "plt.title('Elbow Curve')\n",
    "sns.lineplot(x=\"Number of Clusters\",\n",
    "             y=\"Score\",\n",
    "            data=df_Elbow)\n",
    "sns.scatterplot(x=\"Number of Clusters\",\n",
    "             y=\"Score\",\n",
    "             data=df_Elbow)"
   ]
  },
  {
   "cell_type": "code",
   "execution_count": 103,
   "metadata": {},
   "outputs": [],
   "source": [
    "kmeans = KMeans(n_clusters=3, random_state=0).fit(numericas_prepro.iloc[:,1:])"
   ]
  },
  {
   "cell_type": "code",
   "execution_count": 28,
   "metadata": {},
   "outputs": [
    {
     "data": {
      "text/plain": [
       "array([0, 1, 2])"
      ]
     },
     "execution_count": 28,
     "metadata": {},
     "output_type": "execute_result"
    }
   ],
   "source": [
    "np.unique(kmeans.labels_)"
   ]
  },
  {
   "cell_type": "code",
   "execution_count": 29,
   "metadata": {},
   "outputs": [
    {
     "data": {
      "text/plain": [
       "array([2])"
      ]
     },
     "execution_count": 29,
     "metadata": {},
     "output_type": "execute_result"
    }
   ],
   "source": [
    "kmeans.predict([numericas_prepro.iloc[96,1:]])"
   ]
  },
  {
   "cell_type": "markdown",
   "metadata": {},
   "source": [
    "## Análisis de otras variables."
   ]
  },
  {
   "cell_type": "code",
   "execution_count": 154,
   "metadata": {},
   "outputs": [],
   "source": [
    "import ast\n",
    "generos=[]\n",
    "for i in preprocesado.genres:\n",
    "    i=ast.literal_eval(i)\n",
    "    for j in i:\n",
    "        if j not in generos:\n",
    "            generos.append(j)"
   ]
  },
  {
   "cell_type": "code",
   "execution_count": 155,
   "metadata": {
    "scrolled": true
   },
   "outputs": [
    {
     "data": {
      "text/plain": [
       "['Action',\n",
       " 'Adventure',\n",
       " 'Fantasy',\n",
       " 'Science Fiction',\n",
       " 'Crime',\n",
       " 'Drama',\n",
       " 'Thriller',\n",
       " 'Animation',\n",
       " 'Family',\n",
       " 'Western',\n",
       " 'Comedy',\n",
       " 'Romance',\n",
       " 'Horror',\n",
       " 'Mystery',\n",
       " 'History',\n",
       " 'War',\n",
       " 'Music',\n",
       " 'Documentary',\n",
       " 'Foreign',\n",
       " 'TV Movie']"
      ]
     },
     "execution_count": 155,
     "metadata": {},
     "output_type": "execute_result"
    }
   ],
   "source": [
    "generos"
   ]
  },
  {
   "cell_type": "markdown",
   "metadata": {},
   "source": [
    "production_companies"
   ]
  },
  {
   "cell_type": "code",
   "execution_count": 117,
   "metadata": {},
   "outputs": [],
   "source": [
    "import ast\n",
    "prod_comp=[]\n",
    "for i in preprocesado.production_companies:\n",
    "    i=ast.literal_eval(i)\n",
    "    for j in i:\n",
    "        if j not in prod_comp:\n",
    "            prod_comp.append(j)"
   ]
  },
  {
   "cell_type": "code",
   "execution_count": 118,
   "metadata": {},
   "outputs": [
    {
     "data": {
      "text/plain": [
       "5017"
      ]
     },
     "execution_count": 118,
     "metadata": {},
     "output_type": "execute_result"
    }
   ],
   "source": [
    "len(prod_comp)"
   ]
  },
  {
   "cell_type": "markdown",
   "metadata": {},
   "source": [
    "paises_prod"
   ]
  },
  {
   "cell_type": "code",
   "execution_count": 121,
   "metadata": {},
   "outputs": [
    {
     "data": {
      "text/plain": [
       "88"
      ]
     },
     "execution_count": 121,
     "metadata": {},
     "output_type": "execute_result"
    }
   ],
   "source": [
    "import ast\n",
    "prod_count=[]\n",
    "for i in preprocesado.production_countries:\n",
    "    i=ast.literal_eval(i)\n",
    "    for j in i:\n",
    "        if j not in prod_count:\n",
    "            prod_count.append(j)\n",
    "len(prod_count)"
   ]
  },
  {
   "cell_type": "markdown",
   "metadata": {},
   "source": [
    "idiomas"
   ]
  },
  {
   "cell_type": "code",
   "execution_count": 122,
   "metadata": {},
   "outputs": [
    {
     "data": {
      "text/plain": [
       "62"
      ]
     },
     "execution_count": 122,
     "metadata": {},
     "output_type": "execute_result"
    }
   ],
   "source": [
    "\n",
    "import ast\n",
    "leng=[]\n",
    "for i in preprocesado.spoken_languages:\n",
    "    i=ast.literal_eval(i)\n",
    "    for j in i:\n",
    "        if j not in leng:\n",
    "            leng.append(j)\n",
    "len(leng)"
   ]
  },
  {
   "cell_type": "code",
   "execution_count": 123,
   "metadata": {},
   "outputs": [],
   "source": [
    "def top_inter(indice_pelicula):\n",
    "    top=[]\n",
    "    generos_pelicula    = ast.literal_eval(preprocesado.genres[indice_pelicula]              )\n",
    "    prod_pelicula       = ast.literal_eval(preprocesado.production_companies[indice_pelicula])\n",
    "    prod_pais_pelicula  = ast.literal_eval(preprocesado.production_countries[indice_pelicula])\n",
    "    leng_pelicula       = ast.literal_eval(preprocesado.spoken_languages[indice_pelicula]    )\n",
    "    \n",
    "    for i in range(preprocesado.shape[0]):\n",
    "        generos_2_peliculas   = ast.literal_eval(preprocesado.genres[i]              )\n",
    "        prod_2_peliculas      = ast.literal_eval(preprocesado.production_companies[i])\n",
    "        prod_pais_2_peliculas = ast.literal_eval(preprocesado.production_countries[i])\n",
    "        leng_2_pelicula       = ast.literal_eval(preprocesado.spoken_languages[i]    )\n",
    "        \n",
    "        \n",
    "        interseccion_gen       = len(list(set(generos_pelicula)   & set(generos_2_peliculas  )))\n",
    "        interseccion_prod      = len(list(set(prod_pelicula)      & set(prod_2_peliculas     )))\n",
    "        interseccion_prod_pais = len(list(set(prod_pais_pelicula) & set(prod_pais_2_peliculas)))\n",
    "        interseccion_leng      = len(list(set(leng_pelicula)      & set(leng_2_pelicula      )))\n",
    "        \n",
    "        top.append([i,preprocesado.title[i],interseccion_gen, int(interseccion_prod),int(interseccion_prod_pais), int(interseccion_leng)])\n",
    "        \n",
    "    top_df =pd.DataFrame(data=np.array(top),columns=[\"pelicula_fila\",\"title\",\"generos_en_comun\",\"productora_en_comun\",\"pais_prod_en_comun\",\"idiomas_en_comun\"])\n",
    "    top_df[\"productora_en_comun\"]=top_df[\"productora_en_comun\"].astype(int)\n",
    "    top_df[\"generos_en_comun\"]=top_df[\"generos_en_comun\"].astype(int)\n",
    "    top_df[\"pelicula_fila\"]=top_df[\"pelicula_fila\"].astype(int)\n",
    "    \n",
    "    return top_df[(top_df[\"generos_en_comun\"] >0 )& (top_df[\"productora_en_comun\"]> 0 )]\n",
    "\n",
    "#top_df[(top_df[\"generos_en_comun\"]== top_df[\"generos_en_comun\"].max() )& (top_df[\"productora_en_comun\"]> top_df[\"productora_en_comun\"].mean()) ]\n",
    "        \n",
    "    "
   ]
  },
  {
   "cell_type": "code",
   "execution_count": 124,
   "metadata": {
    "scrolled": true
   },
   "outputs": [
    {
     "data": {
      "text/html": [
       "<div>\n",
       "<style scoped>\n",
       "    .dataframe tbody tr th:only-of-type {\n",
       "        vertical-align: middle;\n",
       "    }\n",
       "\n",
       "    .dataframe tbody tr th {\n",
       "        vertical-align: top;\n",
       "    }\n",
       "\n",
       "    .dataframe thead th {\n",
       "        text-align: right;\n",
       "    }\n",
       "</style>\n",
       "<table border=\"1\" class=\"dataframe\">\n",
       "  <thead>\n",
       "    <tr style=\"text-align: right;\">\n",
       "      <th></th>\n",
       "      <th>pelicula_fila</th>\n",
       "      <th>title</th>\n",
       "      <th>generos_en_comun</th>\n",
       "      <th>productora_en_comun</th>\n",
       "      <th>pais_prod_en_comun</th>\n",
       "      <th>idiomas_en_comun</th>\n",
       "    </tr>\n",
       "  </thead>\n",
       "  <tbody>\n",
       "    <tr>\n",
       "      <th>3</th>\n",
       "      <td>3</td>\n",
       "      <td>The Dark Knight Rises</td>\n",
       "      <td>4</td>\n",
       "      <td>4</td>\n",
       "      <td>1</td>\n",
       "      <td>1</td>\n",
       "    </tr>\n",
       "    <tr>\n",
       "      <th>9</th>\n",
       "      <td>9</td>\n",
       "      <td>Batman v Superman: Dawn of Justice</td>\n",
       "      <td>1</td>\n",
       "      <td>3</td>\n",
       "      <td>1</td>\n",
       "      <td>1</td>\n",
       "    </tr>\n",
       "    <tr>\n",
       "      <th>10</th>\n",
       "      <td>10</td>\n",
       "      <td>Superman Returns</td>\n",
       "      <td>1</td>\n",
       "      <td>3</td>\n",
       "      <td>1</td>\n",
       "      <td>1</td>\n",
       "    </tr>\n",
       "    <tr>\n",
       "      <th>14</th>\n",
       "      <td>14</td>\n",
       "      <td>Man of Steel</td>\n",
       "      <td>1</td>\n",
       "      <td>4</td>\n",
       "      <td>2</td>\n",
       "      <td>1</td>\n",
       "    </tr>\n",
       "    <tr>\n",
       "      <th>28</th>\n",
       "      <td>28</td>\n",
       "      <td>Jurassic World</td>\n",
       "      <td>2</td>\n",
       "      <td>1</td>\n",
       "      <td>1</td>\n",
       "      <td>1</td>\n",
       "    </tr>\n",
       "    <tr>\n",
       "      <th>...</th>\n",
       "      <td>...</td>\n",
       "      <td>...</td>\n",
       "      <td>...</td>\n",
       "      <td>...</td>\n",
       "      <td>...</td>\n",
       "      <td>...</td>\n",
       "    </tr>\n",
       "    <tr>\n",
       "      <th>3911</th>\n",
       "      <td>3911</td>\n",
       "      <td>Krush Groove</td>\n",
       "      <td>1</td>\n",
       "      <td>1</td>\n",
       "      <td>1</td>\n",
       "      <td>1</td>\n",
       "    </tr>\n",
       "    <tr>\n",
       "      <th>4172</th>\n",
       "      <td>4172</td>\n",
       "      <td>A Streetcar Named Desire</td>\n",
       "      <td>1</td>\n",
       "      <td>1</td>\n",
       "      <td>1</td>\n",
       "      <td>1</td>\n",
       "    </tr>\n",
       "    <tr>\n",
       "      <th>4267</th>\n",
       "      <td>4267</td>\n",
       "      <td>Batman</td>\n",
       "      <td>1</td>\n",
       "      <td>1</td>\n",
       "      <td>1</td>\n",
       "      <td>1</td>\n",
       "    </tr>\n",
       "    <tr>\n",
       "      <th>4312</th>\n",
       "      <td>4312</td>\n",
       "      <td>The Charge of the Light Brigade</td>\n",
       "      <td>2</td>\n",
       "      <td>1</td>\n",
       "      <td>1</td>\n",
       "      <td>1</td>\n",
       "    </tr>\n",
       "    <tr>\n",
       "      <th>4329</th>\n",
       "      <td>4329</td>\n",
       "      <td>Casablanca</td>\n",
       "      <td>1</td>\n",
       "      <td>1</td>\n",
       "      <td>1</td>\n",
       "      <td>1</td>\n",
       "    </tr>\n",
       "  </tbody>\n",
       "</table>\n",
       "<p>269 rows × 6 columns</p>\n",
       "</div>"
      ],
      "text/plain": [
       "      pelicula_fila                               title  generos_en_comun  \\\n",
       "3                 3               The Dark Knight Rises                 4   \n",
       "9                 9  Batman v Superman: Dawn of Justice                 1   \n",
       "10               10                    Superman Returns                 1   \n",
       "14               14                        Man of Steel                 1   \n",
       "28               28                      Jurassic World                 2   \n",
       "...             ...                                 ...               ...   \n",
       "3911           3911                        Krush Groove                 1   \n",
       "4172           4172            A Streetcar Named Desire                 1   \n",
       "4267           4267                              Batman                 1   \n",
       "4312           4312     The Charge of the Light Brigade                 2   \n",
       "4329           4329                          Casablanca                 1   \n",
       "\n",
       "      productora_en_comun pais_prod_en_comun idiomas_en_comun  \n",
       "3                       4                  1                1  \n",
       "9                       3                  1                1  \n",
       "10                      3                  1                1  \n",
       "14                      4                  2                1  \n",
       "28                      1                  1                1  \n",
       "...                   ...                ...              ...  \n",
       "3911                    1                  1                1  \n",
       "4172                    1                  1                1  \n",
       "4267                    1                  1                1  \n",
       "4312                    1                  1                1  \n",
       "4329                    1                  1                1  \n",
       "\n",
       "[269 rows x 6 columns]"
      ]
     },
     "execution_count": 124,
     "metadata": {},
     "output_type": "execute_result"
    }
   ],
   "source": [
    "top_inter(65)"
   ]
  },
  {
   "cell_type": "code",
   "execution_count": 126,
   "metadata": {},
   "outputs": [
    {
     "data": {
      "text/plain": [
       "(array([2.000e+00, 1.000e+01, 2.200e+01, 3.100e+01, 5.200e+01, 8.900e+01,\n",
       "        2.290e+02, 4.600e+02, 1.804e+03, 2.103e+03]),\n",
       " array([-19477. , -15809.3, -12141.6,  -8473.9,  -4806.2,  -1138.5,\n",
       "          2529.2,   6196.9,   9864.6,  13532.3,  17200. ]),\n",
       " <BarContainer object of 10 artists>)"
      ]
     },
     "execution_count": 126,
     "metadata": {},
     "output_type": "execute_result"
    },
    {
     "data": {
      "image/png": "[encoded data removed]",
      "text/plain": [
       "<Figure size 432x288 with 1 Axes>"
      ]
     },
     "metadata": {
      "needs_background": "light"
     },
     "output_type": "display_data"
    }
   ],
   "source": [
    "plt.hist(pd.to_datetime(preprocesado.release_date))"
   ]
  },
  {
   "cell_type": "code",
   "execution_count": 127,
   "metadata": {},
   "outputs": [],
   "source": [
    "def fechas_limites(indice_pelicula):\n",
    "    peliculas_cercanas=[]\n",
    "    fecha=pd.to_datetime(preprocesado.release_date)\n",
    "    fecha_pelicula= fecha[indice_pelicula]\n",
    "    for i in range(fecha.shape[0]):\n",
    "        if fecha[i].year +15 >fecha_pelicula.year and fecha[i].year-15 <fecha_pelicula.year:\n",
    "            peliculas_cercanas.append([i,fecha[i],preprocesado.title[i]])\n",
    "    peliculas_cercanas =pd.DataFrame(data=np.array(peliculas_cercanas),columns=[\"movie_id\",\"fecha\",\"title\"])\n",
    "    return peliculas_cercanas\n",
    "            "
   ]
  },
  {
   "cell_type": "code",
   "execution_count": 128,
   "metadata": {},
   "outputs": [],
   "source": [
    "def find_director(indice_pelicula):\n",
    "    crew_pel = ast.literal_eval(preprocesado.job[indice_pelicula])\n",
    "    for i in range(len(crew_pel)):\n",
    "        if crew_pel[i] == 'Director':\n",
    "            break\n",
    "    director_por_buscar = ast.literal_eval(preprocesado.name_crew[indice_pelicula])[i]\n",
    "    df_aux= preprocesado[preprocesado[['name_crew']].applymap(lambda x: director_por_buscar in x ).name_crew]\n",
    "    return df_aux[['title', 'Unnamed: 0']].rename(columns = {'Unnamed: 0': 'pelicula_fila'})\n",
    "    "
   ]
  },
  {
   "cell_type": "code",
   "execution_count": 129,
   "metadata": {},
   "outputs": [],
   "source": [
    "def find_actores(indice_pelicula):\n",
    "    aux = []\n",
    "    actores = set(ast.literal_eval(preprocesado.name_cast[indice_pelicula])[:10])\n",
    "    for i in range(preprocesado.shape[0]):\n",
    "        condicion = list((i,preprocesado.title[i], len(actores & set(ast.literal_eval(preprocesado.name_cast[i])[:10]))))\n",
    "        if preprocesado.title[i] != preprocesado.title[indice_pelicula]:\n",
    "            aux.append( condicion )\n",
    "    df_aux = pd.DataFrame(data = np.array(aux), columns= ['pelicula_fila','title','actores_comunes'])\n",
    "    df_aux[\"actores_comunes\"] = df_aux[\"actores_comunes\"].astype(int)\n",
    "    df_aux[\"pelicula_fila\"] = df_aux[\"pelicula_fila\"].astype(int)\n",
    "    return  df_aux[ df_aux.actores_comunes > 0]\n",
    "\n",
    "#df_aux[ df_aux.actores_comunes >=  df_aux.actores_comunes.mean()]"
   ]
  },
  {
   "cell_type": "code",
   "execution_count": 130,
   "metadata": {},
   "outputs": [],
   "source": [
    "def juntar(df1, df2, df3):\n",
    "    #Asumimos que df1: top_inter, df2: find_actores, df3: find_director\n",
    "    pel_fil = set()\n",
    "    data= pd.DataFrame(columns=['pelicula_fila', 'title', 'generos_en_comun', 'productora_en_comun',\n",
    "       'pais_prod_en_comun', 'idiomas_en_comun', 'actores_comunes', 'director_en_comun'])\n",
    "    \n",
    "    for x in df1.pelicula_fila:\n",
    "        pel_fil.add(x)\n",
    "    \n",
    "    for x in df2.pelicula_fila:\n",
    "        pel_fil.add(x)\n",
    "        \n",
    "    for x in df3.pelicula_fila:\n",
    "        pel_fil.add(x)\n",
    "    \n",
    "    for i in list(pel_fil):\n",
    "        if i in list(df1.pelicula_fila):\n",
    "            a= list(df1.loc[i, ['pelicula_fila', 'title', 'generos_en_comun', 'productora_en_comun',\n",
    "       'pais_prod_en_comun', 'idiomas_en_comun']])\n",
    "            if i in list(df2.pelicula_fila):\n",
    "                a= a+ list(df2[df2['pelicula_fila']==i].actores_comunes)\n",
    "                if i in list(df3.pelicula_fila):\n",
    "                    a+=[1]\n",
    "                else:\n",
    "                    a+=[0]\n",
    "            else:\n",
    "                a+= [0]\n",
    "                if i in list(df3.pelicula_fila):\n",
    "                    a+=[1]\n",
    "                    data.loc[i]=a\n",
    "                else:\n",
    "                    a+=[0]\n",
    "                    data.loc[i]=a\n",
    "        else:\n",
    "            if i in list(df2.pelicula_fila):\n",
    "                a= [i] + list(df2[df2['pelicula_fila']==i].title) +[0, 0, 0 ,0]\n",
    "            else:\n",
    "                a= [i] + list(df3[df3['pelicula_fila']==i].title) +[0, 0, 0 ,0]\n",
    "            if i in list(df2.pelicula_fila):\n",
    "                a+= list(df2[df2['pelicula_fila']==i].actores_comunes)\n",
    "                if i in list(df3.pelicula_fila):\n",
    "                    a+=[1]\n",
    "                    data.loc[i]=a\n",
    "                else:\n",
    "                    a+=[0]\n",
    "                    data.loc[i]=a\n",
    "            else:\n",
    "                a+= [0]\n",
    "                if i in list(df3.pelicula_fila):\n",
    "                    a+=[1]\n",
    "                    data.loc[i]=a\n",
    "                else:\n",
    "                    a+=[0]\n",
    "                    data.loc[i]=a\n",
    "    \n",
    "    \n",
    "    return data"
   ]
  },
  {
   "cell_type": "code",
   "execution_count": 133,
   "metadata": {},
   "outputs": [],
   "source": [
    "def concatenar(indice_pelicula):\n",
    "    df_aux = juntar(top_inter(indice_pelicula), find_actores(indice_pelicula), find_director(indice_pelicula))\n",
    "    for i in df_aux.columns[2:-2]:\n",
    "        df_aux[i] = df_aux[i].astype(int)\n",
    "    \n",
    "    df_aux['score'] = df_aux[['generos_en_comun', 'productora_en_comun', 'pais_prod_en_comun', 'idiomas_en_comun','actores_comunes']].sum(axis = 1)\n",
    "    \n",
    "    return df_aux[['pelicula_fila','title','score', 'director_en_comun']].sort_values(by=['score'], ascending=False)"
   ]
  },
  {
   "cell_type": "code",
   "execution_count": 135,
   "metadata": {},
   "outputs": [
    {
     "data": {
      "text/plain": [
       "['Unnamed: 0',\n",
       " 'movie_id',\n",
       " 'budget',\n",
       " 'id',\n",
       " 'popularity',\n",
       " 'revenue',\n",
       " 'runtime',\n",
       " 'vote_average',\n",
       " 'vote_count',\n",
       " 'Score']"
      ]
     },
     "execution_count": 135,
     "metadata": {},
     "output_type": "execute_result"
    }
   ],
   "source": [
    "numeric_features"
   ]
  },
  {
   "cell_type": "markdown",
   "metadata": {},
   "source": [
    ">Hasta ahora contamos con los siguientes recomendadores (Cosenosimilaridad de texto):\n",
    "\n",
    "1) overview \\\n",
    "2) keywords \\\n",
    "3) Title + Tagline\n",
    "\n",
    ">Tenemos clusters generados por K-mean generado a través de todas la variables numéricas asociados a cada película:\n",
    "\n",
    "1) budget \\\n",
    "2) popularity \\\n",
    "3) revenue \\\n",
    "4) runtime \\\n",
    "5) vote_average \\\n",
    "6) vote_count \\\n",
    "7) Score (Promedio geometrico entre 5 y 6.) \n",
    "\n",
    ">Tenemos un filtro por fecha con restricción de 15 años de diferencia.\n",
    "\n",
    ">Contamos con un filtro que trabaja con el lenguaje original de la película.\n",
    "\n",
    ">Finalmente contamos con una variable binaria que considera si dos películas tienes director en común y un score que considera la suma de los siguientes aspectos con respecto a una pelicula:\n",
    "\n",
    "1) generos_en_comun : Considera cuando dos películas son del mismo género \\\n",
    "2) productora_en_comun : Considera cuando dos películas fueran producidas por la misma productora \\\n",
    "3) pais_prod_en_comun : Considera el país o los paises en comín donde dos peliculas llevaron a cabo su rodaje \\\n",
    "4) idiomas_en_comun : Considera cuando dos películas tiene el mismo idioma de origen en común. \\\n",
    "5) actores_comunes : Considera cunado dos películas tienen actores en común dentro de sus 10 papeles más protagonicos.\n"
   ]
  },
  {
   "cell_type": "markdown",
   "metadata": {},
   "source": [
    "Dado el titula de una pelicula a para la cual se le busca asociar recomnendaciones ($T_o$), buscamos dentro de las peliculas disponibles ($T_c$) cual obtiene el mejor score cuya formula viene dada por: \n",
    "\n",
    "$$f_{score}(T_o,T_c)=0.5 \\times Texto(T_o,T_c)+0.3 \\times Kmeans(T_o,T_c) +0.2 \\times Comunes(T_o,T_c) + Bonus(T_o,T_c)$$ \\\n",
    "Donde:\n",
    "1) $Texto(T_o,T_c)$ es el nivel de similaridad que tiene la pelicula que se esta chequeando $T_c$ con respecto a las variables de texto (Proomedio)\n",
    "2) $Kmeans(T_o,T_c)$ considera una variable binaria si se encuentran en el mismo cluster\n",
    "3) $Comunes(T_o,T_c)$ Toma en cuenta el nivel de similaridad entre dos peliculas con respecto a los puntos 1-5 y sumado a esto una variable binaria que detecta cuando dos peliuclas tienen directo en comun (lo cual se beneficia con un multiplicador de 2 para este puntaje).\n",
    "4) $Bonus(T_o,T_c)$ Considera aspectos adicionales, para los cuales se puede obtener un $10%$ de aumento sobre el puntaje final sobre el bonus y un $%5$ de aumento sobre el puntaje final previo al bonus cuando ambas peliculas cuentan con el mismo lenguaje original."
   ]
  },
  {
   "cell_type": "code",
   "execution_count": 167,
   "metadata": {},
   "outputs": [],
   "source": [
    "indices = pd.Series(preprocesado.index, index=preprocesado['title']).drop_duplicates()"
   ]
  },
  {
   "cell_type": "code",
   "execution_count": 168,
   "metadata": {},
   "outputs": [
    {
     "data": {
      "text/plain": [
       "3"
      ]
     },
     "execution_count": 168,
     "metadata": {},
     "output_type": "execute_result"
    }
   ],
   "source": [
    "indices['The Dark Knight Rises']"
   ]
  },
  {
   "cell_type": "code",
   "execution_count": 176,
   "metadata": {},
   "outputs": [
    {
     "data": {
      "text/plain": [
       "(428, 0.24943052490782133)"
      ]
     },
     "execution_count": 176,
     "metadata": {},
     "output_type": "execute_result"
    }
   ],
   "source": [
    "lista_recomendados(65,'overview')[1]"
   ]
  },
  {
   "cell_type": "code",
   "execution_count": 183,
   "metadata": {},
   "outputs": [],
   "source": [
    "def text_score(idx):\n",
    "    result=list()\n",
    "    L_o=lista_recomendados(idx,'overview')\n",
    "    mov_over = set([i[0] for i in L_o])\n",
    "    score_over= [i[1] for i in L_o]\n",
    "    L_k=lista_recomendados(idx,'keywords')\n",
    "    mov_key = set([i[0] for i in L_k])\n",
    "    score_key=[i[1] for i in L_k]\n",
    "    L_mt=lista_recomendados(idx,'movies+tagline')\n",
    "    mov_mt = set([i[0] for i in L_mt])\n",
    "    score_mt=[i[1] for i in L_mt]\n",
    "    mov_fin = mov_over|mov_key|mov_mt\n",
    "    for i  in mov_fin:\n",
    "        text=0\n",
    "        if i in mov_over:\n",
    "            text+=1/score_over[list(mov_over).index(i)]\n",
    "        if i in mov_key:\n",
    "            text+=1/score_key[list(mov_key).index(i)]  \n",
    "        if i in mov_mt:\n",
    "            text+=1/score_mt[list(mov_mt).index(i)]\n",
    "        result.append([i,text/3])\n",
    "    return(result)\n",
    "            "
   ]
  },
  {
   "cell_type": "code",
   "execution_count": null,
   "metadata": {},
   "outputs": [],
   "source": [
    "def recomendador_final(pelicula):\n",
    "    indices = pd.Series(preprocesado.index, index=preprocesado['title']).drop_duplicates()\n",
    "    idx = indices[title]\n",
    "   \n",
    "    for i in range(preprocesado.shape[0]):\n",
    "        Texto_score=0\n",
    "        if preprosesados.idx    "
   ]
  }
 ],
 "metadata": {
  "kernelspec": {
   "display_name": "Python 3",
   "language": "python",
   "name": "python3"
  },
  "language_info": {
   "codemirror_mode": {
    "name": "ipython",
    "version": 3
   },
   "file_extension": ".py",
   "mimetype": "text/x-python",
   "name": "python",
   "nbconvert_exporter": "python",
   "pygments_lexer": "ipython3",
   "version": "3.8.5"
  }
 },
 "nbformat": 4,
 "nbformat_minor": 4
}
